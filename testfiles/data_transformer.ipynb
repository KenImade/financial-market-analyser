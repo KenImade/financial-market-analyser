{
 "cells": [
  {
   "cell_type": "code",
   "execution_count": 4,
   "metadata": {},
   "outputs": [],
   "source": [
    "import pandas as pd"
   ]
  },
  {
   "cell_type": "code",
   "execution_count": 5,
   "metadata": {},
   "outputs": [
    {
     "data": {
      "text/html": [
       "<div>\n",
       "<style scoped>\n",
       "    .dataframe tbody tr th:only-of-type {\n",
       "        vertical-align: middle;\n",
       "    }\n",
       "\n",
       "    .dataframe tbody tr th {\n",
       "        vertical-align: top;\n",
       "    }\n",
       "\n",
       "    .dataframe thead th {\n",
       "        text-align: right;\n",
       "    }\n",
       "</style>\n",
       "<table border=\"1\" class=\"dataframe\">\n",
       "  <thead>\n",
       "    <tr style=\"text-align: right;\">\n",
       "      <th></th>\n",
       "      <th>Unnamed: 0</th>\n",
       "      <th>1. open</th>\n",
       "      <th>2. high</th>\n",
       "      <th>3. low</th>\n",
       "      <th>4. close</th>\n",
       "      <th>5. volume</th>\n",
       "    </tr>\n",
       "  </thead>\n",
       "  <tbody>\n",
       "    <tr>\n",
       "      <th>0</th>\n",
       "      <td>2024-01-30</td>\n",
       "      <td>406.06</td>\n",
       "      <td>413.05</td>\n",
       "      <td>404.33</td>\n",
       "      <td>408.59</td>\n",
       "      <td>57987846</td>\n",
       "    </tr>\n",
       "    <tr>\n",
       "      <th>1</th>\n",
       "      <td>2024-01-26</td>\n",
       "      <td>400.02</td>\n",
       "      <td>407.01</td>\n",
       "      <td>393.59</td>\n",
       "      <td>403.93</td>\n",
       "      <td>109649099</td>\n",
       "    </tr>\n",
       "    <tr>\n",
       "      <th>2</th>\n",
       "      <td>2024-01-19</td>\n",
       "      <td>393.66</td>\n",
       "      <td>398.67</td>\n",
       "      <td>384.81</td>\n",
       "      <td>398.67</td>\n",
       "      <td>102159580</td>\n",
       "    </tr>\n",
       "    <tr>\n",
       "      <th>3</th>\n",
       "      <td>2024-01-12</td>\n",
       "      <td>369.30</td>\n",
       "      <td>390.68</td>\n",
       "      <td>369.01</td>\n",
       "      <td>388.47</td>\n",
       "      <td>118990164</td>\n",
       "    </tr>\n",
       "    <tr>\n",
       "      <th>4</th>\n",
       "      <td>2024-01-05</td>\n",
       "      <td>373.86</td>\n",
       "      <td>375.90</td>\n",
       "      <td>366.50</td>\n",
       "      <td>367.75</td>\n",
       "      <td>89318051</td>\n",
       "    </tr>\n",
       "  </tbody>\n",
       "</table>\n",
       "</div>"
      ],
      "text/plain": [
       "   Unnamed: 0  1. open  2. high  3. low  4. close  5. volume\n",
       "0  2024-01-30   406.06   413.05  404.33    408.59   57987846\n",
       "1  2024-01-26   400.02   407.01  393.59    403.93  109649099\n",
       "2  2024-01-19   393.66   398.67  384.81    398.67  102159580\n",
       "3  2024-01-12   369.30   390.68  369.01    388.47  118990164\n",
       "4  2024-01-05   373.86   375.90  366.50    367.75   89318051"
      ]
     },
     "execution_count": 5,
     "metadata": {},
     "output_type": "execute_result"
    }
   ],
   "source": [
    "df = pd.read_csv('./sample_data.csv')\n",
    "df.head()"
   ]
  },
  {
   "cell_type": "code",
   "execution_count": 6,
   "metadata": {},
   "outputs": [
    {
     "name": "stdout",
     "output_type": "stream",
     "text": [
      "<class 'pandas.core.frame.DataFrame'>\n",
      "RangeIndex: 1265 entries, 0 to 1264\n",
      "Data columns (total 6 columns):\n",
      " #   Column      Non-Null Count  Dtype  \n",
      "---  ------      --------------  -----  \n",
      " 0   Unnamed: 0  1265 non-null   object \n",
      " 1   1. open     1265 non-null   float64\n",
      " 2   2. high     1265 non-null   float64\n",
      " 3   3. low      1265 non-null   float64\n",
      " 4   4. close    1265 non-null   float64\n",
      " 5   5. volume   1265 non-null   int64  \n",
      "dtypes: float64(4), int64(1), object(1)\n",
      "memory usage: 59.4+ KB\n"
     ]
    }
   ],
   "source": [
    "df.info()"
   ]
  },
  {
   "cell_type": "code",
   "execution_count": 7,
   "metadata": {},
   "outputs": [
    {
     "name": "stdout",
     "output_type": "stream",
     "text": [
      "<class 'pandas.core.frame.DataFrame'>\n",
      "RangeIndex: 1265 entries, 0 to 1264\n",
      "Data columns (total 8 columns):\n",
      " #   Column       Non-Null Count  Dtype  \n",
      "---  ------       --------------  -----  \n",
      " 0   Unnamed: 0   1265 non-null   object \n",
      " 1   1. open      1265 non-null   float64\n",
      " 2   2. high      1265 non-null   float64\n",
      " 3   3. low       1265 non-null   float64\n",
      " 4   4. close     1265 non-null   float64\n",
      " 5   5. volume    1265 non-null   int64  \n",
      " 6   date         1265 non-null   object \n",
      " 7   stock_price  1265 non-null   float64\n",
      "dtypes: float64(5), int64(1), object(2)\n",
      "memory usage: 79.2+ KB\n"
     ]
    }
   ],
   "source": [
    "df.rename(columns={\"Unnamed: 0\" : \"date\"})\n",
    "df['date'] = df['Unnamed: 0']\n",
    "df['stock_price'] = df['4. close']\n",
    "df.info()"
   ]
  },
  {
   "cell_type": "code",
   "execution_count": 8,
   "metadata": {},
   "outputs": [
    {
     "data": {
      "text/html": [
       "<div>\n",
       "<style scoped>\n",
       "    .dataframe tbody tr th:only-of-type {\n",
       "        vertical-align: middle;\n",
       "    }\n",
       "\n",
       "    .dataframe tbody tr th {\n",
       "        vertical-align: top;\n",
       "    }\n",
       "\n",
       "    .dataframe thead th {\n",
       "        text-align: right;\n",
       "    }\n",
       "</style>\n",
       "<table border=\"1\" class=\"dataframe\">\n",
       "  <thead>\n",
       "    <tr style=\"text-align: right;\">\n",
       "      <th></th>\n",
       "      <th>Unnamed: 0</th>\n",
       "      <th>1. open</th>\n",
       "      <th>2. high</th>\n",
       "      <th>3. low</th>\n",
       "      <th>4. close</th>\n",
       "      <th>5. volume</th>\n",
       "      <th>date</th>\n",
       "      <th>stock_price</th>\n",
       "    </tr>\n",
       "  </thead>\n",
       "  <tbody>\n",
       "    <tr>\n",
       "      <th>0</th>\n",
       "      <td>2024-01-30</td>\n",
       "      <td>406.06</td>\n",
       "      <td>413.05</td>\n",
       "      <td>404.33</td>\n",
       "      <td>408.59</td>\n",
       "      <td>57987846</td>\n",
       "      <td>2024-01-30</td>\n",
       "      <td>408.59</td>\n",
       "    </tr>\n",
       "    <tr>\n",
       "      <th>1</th>\n",
       "      <td>2024-01-26</td>\n",
       "      <td>400.02</td>\n",
       "      <td>407.01</td>\n",
       "      <td>393.59</td>\n",
       "      <td>403.93</td>\n",
       "      <td>109649099</td>\n",
       "      <td>2024-01-26</td>\n",
       "      <td>403.93</td>\n",
       "    </tr>\n",
       "    <tr>\n",
       "      <th>2</th>\n",
       "      <td>2024-01-19</td>\n",
       "      <td>393.66</td>\n",
       "      <td>398.67</td>\n",
       "      <td>384.81</td>\n",
       "      <td>398.67</td>\n",
       "      <td>102159580</td>\n",
       "      <td>2024-01-19</td>\n",
       "      <td>398.67</td>\n",
       "    </tr>\n",
       "    <tr>\n",
       "      <th>3</th>\n",
       "      <td>2024-01-12</td>\n",
       "      <td>369.30</td>\n",
       "      <td>390.68</td>\n",
       "      <td>369.01</td>\n",
       "      <td>388.47</td>\n",
       "      <td>118990164</td>\n",
       "      <td>2024-01-12</td>\n",
       "      <td>388.47</td>\n",
       "    </tr>\n",
       "    <tr>\n",
       "      <th>4</th>\n",
       "      <td>2024-01-05</td>\n",
       "      <td>373.86</td>\n",
       "      <td>375.90</td>\n",
       "      <td>366.50</td>\n",
       "      <td>367.75</td>\n",
       "      <td>89318051</td>\n",
       "      <td>2024-01-05</td>\n",
       "      <td>367.75</td>\n",
       "    </tr>\n",
       "  </tbody>\n",
       "</table>\n",
       "</div>"
      ],
      "text/plain": [
       "   Unnamed: 0  1. open  2. high  3. low  4. close  5. volume        date  \\\n",
       "0  2024-01-30   406.06   413.05  404.33    408.59   57987846  2024-01-30   \n",
       "1  2024-01-26   400.02   407.01  393.59    403.93  109649099  2024-01-26   \n",
       "2  2024-01-19   393.66   398.67  384.81    398.67  102159580  2024-01-19   \n",
       "3  2024-01-12   369.30   390.68  369.01    388.47  118990164  2024-01-12   \n",
       "4  2024-01-05   373.86   375.90  366.50    367.75   89318051  2024-01-05   \n",
       "\n",
       "   stock_price  \n",
       "0       408.59  \n",
       "1       403.93  \n",
       "2       398.67  \n",
       "3       388.47  \n",
       "4       367.75  "
      ]
     },
     "execution_count": 8,
     "metadata": {},
     "output_type": "execute_result"
    }
   ],
   "source": [
    "df.head()"
   ]
  },
  {
   "cell_type": "code",
   "execution_count": 9,
   "metadata": {},
   "outputs": [
    {
     "data": {
      "text/html": [
       "<div>\n",
       "<style scoped>\n",
       "    .dataframe tbody tr th:only-of-type {\n",
       "        vertical-align: middle;\n",
       "    }\n",
       "\n",
       "    .dataframe tbody tr th {\n",
       "        vertical-align: top;\n",
       "    }\n",
       "\n",
       "    .dataframe thead th {\n",
       "        text-align: right;\n",
       "    }\n",
       "</style>\n",
       "<table border=\"1\" class=\"dataframe\">\n",
       "  <thead>\n",
       "    <tr style=\"text-align: right;\">\n",
       "      <th></th>\n",
       "      <th>date</th>\n",
       "      <th>stock_price</th>\n",
       "    </tr>\n",
       "  </thead>\n",
       "  <tbody>\n",
       "    <tr>\n",
       "      <th>0</th>\n",
       "      <td>2024-01-30</td>\n",
       "      <td>408.59</td>\n",
       "    </tr>\n",
       "    <tr>\n",
       "      <th>1</th>\n",
       "      <td>2024-01-26</td>\n",
       "      <td>403.93</td>\n",
       "    </tr>\n",
       "    <tr>\n",
       "      <th>2</th>\n",
       "      <td>2024-01-19</td>\n",
       "      <td>398.67</td>\n",
       "    </tr>\n",
       "    <tr>\n",
       "      <th>3</th>\n",
       "      <td>2024-01-12</td>\n",
       "      <td>388.47</td>\n",
       "    </tr>\n",
       "    <tr>\n",
       "      <th>4</th>\n",
       "      <td>2024-01-05</td>\n",
       "      <td>367.75</td>\n",
       "    </tr>\n",
       "  </tbody>\n",
       "</table>\n",
       "</div>"
      ],
      "text/plain": [
       "         date  stock_price\n",
       "0  2024-01-30       408.59\n",
       "1  2024-01-26       403.93\n",
       "2  2024-01-19       398.67\n",
       "3  2024-01-12       388.47\n",
       "4  2024-01-05       367.75"
      ]
     },
     "execution_count": 9,
     "metadata": {},
     "output_type": "execute_result"
    }
   ],
   "source": [
    "df2 = df[['date', 'stock_price']].copy()\n",
    "df2.head()"
   ]
  },
  {
   "cell_type": "code",
   "execution_count": 10,
   "metadata": {},
   "outputs": [
    {
     "name": "stdout",
     "output_type": "stream",
     "text": [
      "<class 'pandas.core.frame.DataFrame'>\n",
      "RangeIndex: 1265 entries, 0 to 1264\n",
      "Data columns (total 2 columns):\n",
      " #   Column       Non-Null Count  Dtype  \n",
      "---  ------       --------------  -----  \n",
      " 0   date         1265 non-null   object \n",
      " 1   stock_price  1265 non-null   float64\n",
      "dtypes: float64(1), object(1)\n",
      "memory usage: 19.9+ KB\n"
     ]
    }
   ],
   "source": [
    "df2.info()"
   ]
  },
  {
   "cell_type": "code",
   "execution_count": 11,
   "metadata": {},
   "outputs": [
    {
     "name": "stdout",
     "output_type": "stream",
     "text": [
      "<class 'pandas.core.frame.DataFrame'>\n",
      "RangeIndex: 1265 entries, 0 to 1264\n",
      "Data columns (total 2 columns):\n",
      " #   Column       Non-Null Count  Dtype         \n",
      "---  ------       --------------  -----         \n",
      " 0   date         1265 non-null   datetime64[ns]\n",
      " 1   stock_price  1265 non-null   float64       \n",
      "dtypes: datetime64[ns](1), float64(1)\n",
      "memory usage: 19.9 KB\n"
     ]
    }
   ],
   "source": [
    "df2['date'] = pd.to_datetime(df2['date'])\n",
    "df2.info()"
   ]
  },
  {
   "cell_type": "code",
   "execution_count": 12,
   "metadata": {},
   "outputs": [
    {
     "data": {
      "text/html": [
       "<div>\n",
       "<style scoped>\n",
       "    .dataframe tbody tr th:only-of-type {\n",
       "        vertical-align: middle;\n",
       "    }\n",
       "\n",
       "    .dataframe tbody tr th {\n",
       "        vertical-align: top;\n",
       "    }\n",
       "\n",
       "    .dataframe thead th {\n",
       "        text-align: right;\n",
       "    }\n",
       "</style>\n",
       "<table border=\"1\" class=\"dataframe\">\n",
       "  <thead>\n",
       "    <tr style=\"text-align: right;\">\n",
       "      <th></th>\n",
       "      <th>date</th>\n",
       "      <th>stock_price</th>\n",
       "    </tr>\n",
       "  </thead>\n",
       "  <tbody>\n",
       "    <tr>\n",
       "      <th>0</th>\n",
       "      <td>2024-01-30</td>\n",
       "      <td>408.59</td>\n",
       "    </tr>\n",
       "    <tr>\n",
       "      <th>1</th>\n",
       "      <td>2024-01-26</td>\n",
       "      <td>403.93</td>\n",
       "    </tr>\n",
       "    <tr>\n",
       "      <th>2</th>\n",
       "      <td>2024-01-19</td>\n",
       "      <td>398.67</td>\n",
       "    </tr>\n",
       "    <tr>\n",
       "      <th>3</th>\n",
       "      <td>2024-01-12</td>\n",
       "      <td>388.47</td>\n",
       "    </tr>\n",
       "    <tr>\n",
       "      <th>4</th>\n",
       "      <td>2024-01-05</td>\n",
       "      <td>367.75</td>\n",
       "    </tr>\n",
       "  </tbody>\n",
       "</table>\n",
       "</div>"
      ],
      "text/plain": [
       "        date  stock_price\n",
       "0 2024-01-30       408.59\n",
       "1 2024-01-26       403.93\n",
       "2 2024-01-19       398.67\n",
       "3 2024-01-12       388.47\n",
       "4 2024-01-05       367.75"
      ]
     },
     "execution_count": 12,
     "metadata": {},
     "output_type": "execute_result"
    }
   ],
   "source": [
    "df2.head()"
   ]
  },
  {
   "cell_type": "code",
   "execution_count": 13,
   "metadata": {},
   "outputs": [],
   "source": [
    "import matplotlib.pyplot as plt\n",
    "import seaborn as sns"
   ]
  },
  {
   "cell_type": "code",
   "execution_count": 61,
   "metadata": {},
   "outputs": [],
   "source": [
    "def plot_line(data, x_column, y_column, title, ylabel):\n",
    "    px = 1/plt.rcParams['figure.dpi']\n",
    "    fig, ax = plt.subplots(figsize=(564*px, 160*px))\n",
    "    ax.plot(data[x_column], data[y_column], color='green')\n",
    "    ax.set_facecolor('lightgrey')\n",
    "    fig.set_facecolor('lightgrey')\n",
    "\n",
    "    ax.set_title(f\"Yearly trend of '{title}' stock\", loc='left', fontweight='bold', fontsize=10)\n",
    "    ax.set_ylabel(ylabel, fontsize=8)\n",
    "    \n",
    "    plt.show()"
   ]
  },
  {
   "cell_type": "code",
   "execution_count": 62,
   "metadata": {},
   "outputs": [
    {
     "data": {
      "image/png": "[encoded data removed]",
      "text/plain": [
       "<Figure size 564x160 with 1 Axes>"
      ]
     },
     "metadata": {},
     "output_type": "display_data"
    }
   ],
   "source": [
    "plot_line(df2, 'date', 'stock_price', 'MSFT', 'Price (USD)')"
   ]
  },
  {
   "cell_type": "code",
   "execution_count": null,
   "metadata": {},
   "outputs": [],
   "source": []
  }
 ],
 "metadata": {
  "kernelspec": {
   "display_name": "base",
   "language": "python",
   "name": "python3"
  },
  "language_info": {
   "codemirror_mode": {
    "name": "ipython",
    "version": 3
   },
   "file_extension": ".py",
   "mimetype": "text/x-python",
   "name": "python",
   "nbconvert_exporter": "python",
   "pygments_lexer": "ipython3",
   "version": "3.9.13"
  }
 },
 "nbformat": 4,
 "nbformat_minor": 2
}
